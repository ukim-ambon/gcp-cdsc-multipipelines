{
 "cells": [
  {
   "cell_type": "markdown",
   "id": "e1fb72f5-8045-49b6-addf-3861113b1ddb",
   "metadata": {},
   "source": [
    "# This is the main file to run analysis"
   ]
  },
  {
   "cell_type": "code",
   "execution_count": null,
   "id": "29b403f6-0afb-493a-8ae4-24dbc3f7b1e1",
   "metadata": {},
   "outputs": [],
   "source": [
    "print(\"check qillbel\")"
   ]
  }
 ],
 "metadata": {
  "environment": {
   "kernel": "conda-base-py",
   "name": "workbench-notebooks.m129",
   "type": "gcloud",
   "uri": "us-docker.pkg.dev/deeplearning-platform-release/gcr.io/workbench-notebooks:m129"
  },
  "kernelspec": {
   "display_name": "Python 3 (ipykernel) (Local)",
   "language": "python",
   "name": "conda-base-py"
  },
  "language_info": {
   "codemirror_mode": {
    "name": "ipython",
    "version": 3
   },
   "file_extension": ".py",
   "mimetype": "text/x-python",
   "name": "python",
   "nbconvert_exporter": "python",
   "pygments_lexer": "ipython3",
   "version": "3.10.16"
  }
 },
 "nbformat": 4,
 "nbformat_minor": 5
}
